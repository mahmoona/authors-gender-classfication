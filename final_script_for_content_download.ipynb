{
  "nbformat": 4,
  "nbformat_minor": 0,
  "metadata": {
    "colab": {
      "provenance": [],
      "toc_visible": true
    },
    "kernelspec": {
      "name": "python3",
      "display_name": "Python 3"
    },
    "language_info": {
      "name": "python"
    }
  },
  "cells": [
    {
      "cell_type": "code",
      "execution_count": null,
      "metadata": {
        "id": "1hxsSb2rQNr8"
      },
      "outputs": [],
      "source": [
        "import requests\n",
        "from bs4 import BeautifulSoup\n",
        "from PIL import Image\n",
        "import os\n",
        "# Wikipedia page to parse\n",
        "\n",
        "def getContent(url):\n",
        "\n",
        "# Send a GET request to the URL\n",
        "  response = requests.get(url)\n",
        "  parent_dir = \"sample_data/\"\n",
        "  # Check if the request was successful\n",
        "  if response.status_code == 200:\n",
        "      # Use BeautifulSoup to parse the HTML content\n",
        "      soup = BeautifulSoup(response.text, 'html.parser')\n",
        "      try:\n",
        "        # Find the main content of the Wikipedia page\n",
        "        content = soup.find('div', {'id': 'mw-content-text'})\n",
        "\n",
        "        # Find the main image of the Wikipedia page\n",
        "        image = soup.find('td', {'class': 'infobox-image'}).find('img')['src']\n",
        "        name = soup.find('table', {'class': 'infobox vcard'}).find('div', {'class': 'fn'}).text\n",
        "        directory = name\n",
        "  \n",
        "        # Parent Directory path\n",
        "        path = os.path.join(parent_dir, directory)\n",
        "        os.mkdir(path)\n",
        "      # Save the content as an HTML file\n",
        "        with open(path+('/content.html'), 'w', encoding='utf-8') as f:\n",
        "            f.write(str(content))\n",
        "\n",
        "      # Download the main image\n",
        "        image_response = requests.get(f'https:{image}')\n",
        "        if image_response.status_code == 200:\n",
        "         # Save the image as a file\n",
        "            with open(path+('/image.png'), 'wb') as f:\n",
        "                f.write(image_response.content)\n",
        "        # Open the image using the Python Imaging Library (PIL)\n",
        "            img = Image.open('image.png')\n",
        "            img.show()\n",
        "      except:\n",
        "        print('Some Important data missing')\n",
        "        path = os.path.join(parent_dir, directory)\n",
        "        os.rmdir(path)\n",
        "\n",
        "  getContent('https://en.wikipedia.org/wiki/Chetan_Bhagat')"
      ]
    }
  ]
}